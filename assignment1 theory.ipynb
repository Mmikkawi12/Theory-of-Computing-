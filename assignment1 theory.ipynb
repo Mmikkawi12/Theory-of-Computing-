{
 "cells": [
  {
   "cell_type": "markdown",
   "id": "9b934dd9",
   "metadata": {},
   "source": [
    "# NFA to DFA Converter"
   ]
  },
  {
   "cell_type": "markdown",
   "id": "342f5843",
   "metadata": {},
   "source": [
    "\n",
    "## Step 1: Define the NFA"
   ]
  },
  {
   "cell_type": "code",
   "execution_count": 1,
   "id": "3c2babbd",
   "metadata": {},
   "outputs": [],
   "source": [
    "nfa = {\n",
    "    'states': {'q0', 'q1', 'q2'},\n",
    "    'symbols': {'a', 'b'},\n",
    "    'start': 'q0',\n",
    "    'accept': {'q2'},\n",
    "    'transitions': {\n",
    "        ('q0', 'a'): {'q0', 'q1'},\n",
    "        ('q1', 'b'): {'q2'}\n",
    "    }\n",
    "}"
   ]
  },
  {
   "cell_type": "markdown",
   "id": "b69fb5ef",
   "metadata": {},
   "source": [
    "## Step 2: Define Conversion Function\n"
   ]
  },
  {
   "cell_type": "code",
   "execution_count": 2,
   "id": "8ad20073",
   "metadata": {},
   "outputs": [],
   "source": [
    "from collections import defaultdict\n",
    "\n",
    "def nfa_to_dfa(nfa):\n",
    "    states = nfa['states']\n",
    "    symbols = nfa['symbols']\n",
    "    start = nfa['start']\n",
    "    accept = nfa['accept']\n",
    "    transitions = nfa['transitions']\n",
    "    \n",
    "    # Initialize DFA\n",
    "    dfa_states = []\n",
    "    dfa_transitions = {}\n",
    "    unmarked_states = []\n",
    "    \n",
    "    # Start state of DFA (as a set of NFA states)\n",
    "    start_state = frozenset([start])\n",
    "    dfa_states.append(start_state)\n",
    "    unmarked_states.append(start_state)\n",
    "    \n",
    "    # Subset Construction Algorithm\n",
    "    while unmarked_states:\n",
    "        current = unmarked_states.pop()\n",
    "        for symbol in symbols:\n",
    "            new_state = set()\n",
    "            for nfa_state in current:\n",
    "                if (nfa_state, symbol) in transitions:\n",
    "                    new_state.update(transitions[(nfa_state, symbol)])\n",
    "            new_state = frozenset(new_state)\n",
    "            \n",
    "            if new_state:\n",
    "                dfa_transitions[(current, symbol)] = new_state\n",
    "                if new_state not in dfa_states:\n",
    "                    dfa_states.append(new_state)\n",
    "                    unmarked_states.append(new_state)\n",
    "    \n",
    "    # Find accept states\n",
    "    dfa_accept = [state for state in dfa_states if state & accept]\n",
    "    \n",
    "    # Build DFA dictionary\n",
    "    dfa = {\n",
    "        'states': dfa_states,\n",
    "        'symbols': symbols,\n",
    "        'start': start_state,\n",
    "        'accept': dfa_accept,\n",
    "        'transitions': dfa_transitions\n",
    "    }\n",
    "    \n",
    "    return dfa\n"
   ]
  },
  {
   "cell_type": "markdown",
   "id": "bc4903bb",
   "metadata": {},
   "source": [
    "## Step 3: Convert NFA to DFA and display results\n"
   ]
  },
  {
   "cell_type": "code",
   "execution_count": 3,
   "id": "34d6e28f",
   "metadata": {},
   "outputs": [
    {
     "name": "stdout",
     "output_type": "stream",
     "text": [
      "NFA States: {'q0', 'q1', 'q2'}\n",
      "NFA Start State: q0\n",
      "NFA Accept States: {'q2'}\n",
      "\n",
      "DFA States: [frozenset({'q0'}), frozenset({'q0', 'q1'}), frozenset({'q2'})]\n",
      "DFA Start State: frozenset({'q0'})\n",
      "DFA Accept States: [frozenset({'q2'})]\n",
      "\n",
      "DFA Transitions:\n",
      "  δ({'q0'}, 'a') -> {'q0', 'q1'}\n",
      "  δ({'q0', 'q1'}, 'b') -> {'q2'}\n",
      "  δ({'q0', 'q1'}, 'a') -> {'q0', 'q1'}\n"
     ]
    }
   ],
   "source": [
    "dfa = nfa_to_dfa(nfa)\n",
    "\n",
    "print(\"NFA States:\", nfa['states'])\n",
    "print(\"NFA Start State:\", nfa['start'])\n",
    "print(\"NFA Accept States:\", nfa['accept'])\n",
    "print(\"\\nDFA States:\", dfa['states'])\n",
    "print(\"DFA Start State:\", dfa['start'])\n",
    "print(\"DFA Accept States:\", dfa['accept'])\n",
    "print(\"\\nDFA Transitions:\")\n",
    "for (state, symbol), next_state in dfa['transitions'].items():\n",
    "    print(f\"  δ({set(state)}, '{symbol}') -> {set(next_state)}\")"
   ]
  },
  {
   "cell_type": "code",
   "execution_count": null,
   "id": "62218602",
   "metadata": {},
   "outputs": [],
   "source": []
  }
 ],
 "metadata": {
  "kernelspec": {
   "display_name": "Python 3 (ipykernel)",
   "language": "python",
   "name": "python3"
  },
  "language_info": {
   "codemirror_mode": {
    "name": "ipython",
    "version": 3
   },
   "file_extension": ".py",
   "mimetype": "text/x-python",
   "name": "python",
   "nbconvert_exporter": "python",
   "pygments_lexer": "ipython3",
   "version": "3.11.5"
  }
 },
 "nbformat": 4,
 "nbformat_minor": 5
}
